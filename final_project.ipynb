{
 "cells": [
  {
   "cell_type": "markdown",
   "id": "c4b86f6d-9d76-476c-89b9-8c963d10ef02",
   "metadata": {},
   "source": [
    "# Final Project Tools for Data Science"
   ]
  },
  {
   "cell_type": "markdown",
   "id": "300a379c-6934-49e1-8935-7e883c24e038",
   "metadata": {},
   "source": [
    "In this notebook I will do the final project for this IBM lesson. "
   ]
  },
  {
   "cell_type": "markdown",
   "id": "74087594-6cd7-49eb-a99b-cded1bec9678",
   "metadata": {},
   "source": [
    "There are several programming languages such as: \n",
    "1. python\n",
    "1. R\n",
    "1. Matlab\n",
    "1. SQL"
   ]
  },
  {
   "cell_type": "markdown",
   "id": "e28af2ed-aa9d-4cef-945c-9b3b72e6b630",
   "metadata": {},
   "source": [
    "|Data Science Tool|Open Source/Commercial|\n",
    "|-----------------|----------------------|\n",
    "|Jupyter|Open Source|\n",
    "|Watson Studio|Commercial|\n",
    "|RStudio|Open Source|"
   ]
  },
  {
   "cell_type": "markdown",
   "id": "faa86395-fa4d-4e8f-af83-6f5673a3a348",
   "metadata": {},
   "source": [
    "This is a sum 1+1, this is a multiplication 2x3"
   ]
  },
  {
   "cell_type": "code",
   "execution_count": 11,
   "id": "ad0b5d02-897c-4eb4-bf66-8f8ad47efe05",
   "metadata": {},
   "outputs": [
    {
     "data": {
      "text/plain": [
       "2"
      ]
     },
     "execution_count": 11,
     "metadata": {},
     "output_type": "execute_result"
    }
   ],
   "source": [
    "1+1"
   ]
  },
  {
   "cell_type": "code",
   "execution_count": 9,
   "id": "c3440add-b603-497e-b9a7-d382dd821c2c",
   "metadata": {},
   "outputs": [
    {
     "data": {
      "text/plain": [
       "8"
      ]
     },
     "execution_count": 9,
     "metadata": {},
     "output_type": "execute_result"
    }
   ],
   "source": [
    "def multiply (x,y):\n",
    "    return x*y\n",
    "\n",
    "def summm (x,y):\n",
    "    return x+y\n",
    "\n",
    "summm(multiply(2,3),2)"
   ]
  },
  {
   "cell_type": "code",
   "execution_count": 12,
   "id": "ef1c2a6c-6ded-4e94-af0f-204fa1df6fd3",
   "metadata": {},
   "outputs": [
    {
     "data": {
      "text/plain": [
       "2.0"
      ]
     },
     "execution_count": 12,
     "metadata": {},
     "output_type": "execute_result"
    }
   ],
   "source": [
    "def minute_convertion(minutes):\n",
    "    return minutes/60 \n",
    "\n",
    "minute_convertion(120)"
   ]
  },
  {
   "cell_type": "markdown",
   "id": "84b04040-5bbc-4f20-84d7-4945d05f9cc6",
   "metadata": {},
   "source": [
    "In the close future I want to:\n",
    "\n",
    "    -Buy a Car\n",
    "    -Buy a house\n",
    "    -Go to Iceland"
   ]
  },
  {
   "cell_type": "markdown",
   "id": "59fda1cb-eadd-4efe-84c5-d640efa8bc34",
   "metadata": {},
   "source": [
    "My name is Cesar Bustos"
   ]
  },
  {
   "cell_type": "code",
   "execution_count": null,
   "id": "cb8b139d-dbf2-4bc8-843c-1622d71276c4",
   "metadata": {},
   "outputs": [],
   "source": []
  }
 ],
 "metadata": {
  "kernelspec": {
   "display_name": "Python",
   "language": "python",
   "name": "conda-env-python-py"
  },
  "language_info": {
   "codemirror_mode": {
    "name": "ipython",
    "version": 3
   },
   "file_extension": ".py",
   "mimetype": "text/x-python",
   "name": "python",
   "nbconvert_exporter": "python",
   "pygments_lexer": "ipython3",
   "version": "3.7.12"
  }
 },
 "nbformat": 4,
 "nbformat_minor": 5
}
